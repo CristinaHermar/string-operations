{
 "cells": [
  {
   "cell_type": "markdown",
   "metadata": {},
   "source": [
    "# String Operations Lab\n",
    "\n",
    "**Before your start:**\n",
    "\n",
    "- Read the README.md file\n",
    "- Comment as much as you can and use the resources in the README.md file\n",
    "- Happy learning!"
   ]
  },
  {
   "cell_type": "code",
   "execution_count": 3,
   "metadata": {},
   "outputs": [],
   "source": [
    "import re"
   ]
  },
  {
   "cell_type": "markdown",
   "metadata": {},
   "source": [
    "# Challenge 1 - Combining Strings\n",
    "\n",
    "Combining strings is an important skill to acquire. There are multiple ways of combining strings in Python, as well as combining strings with variables. We will explore this in the first challenge. In the cell below, combine the strings in the list and add spaces between the strings (do not add a space after the last string). Insert a period after the last string."
   ]
  },
  {
   "cell_type": "code",
   "execution_count": 38,
   "metadata": {},
   "outputs": [
    {
     "data": {
      "text/plain": [
       "'Durante un tiempo no estuvo segura de si su marido era su marido.'"
      ]
     },
     "execution_count": 38,
     "metadata": {},
     "output_type": "execute_result"
    }
   ],
   "source": [
    "str_list = ['Durante', 'un', 'tiempo', 'no', 'estuvo', 'segura', 'de', 'si', 'su', 'marido', 'era', 'su', 'marido']\n",
    "#len(str_list)\n",
    "texto0=\" \".join(str_list[0:14])\n",
    "texto1=texto0 + \".\"\n",
    "texto1\n"
   ]
  },
  {
   "cell_type": "markdown",
   "metadata": {},
   "source": [
    "In the cell below, use the list of strings to create a grocery list. Start the list with the string `Grocery list: ` and include a comma and a space between each item except for the last one. Include a period at the end. Only include foods in the list that start with the letter 'b' and ensure all foods are lower case."
   ]
  },
  {
   "cell_type": "code",
   "execution_count": 28,
   "metadata": {},
   "outputs": [],
   "source": [
    "food_list = ['Bananas', 'Chocolate', 'bread', 'diapers', 'Ice Cream', 'Brownie Mix', 'broccoli']\n",
    "\n"
   ]
  },
  {
   "cell_type": "code",
   "execution_count": 49,
   "metadata": {},
   "outputs": [
    {
     "name": "stdout",
     "output_type": "stream",
     "text": [
      "2\n"
     ]
    }
   ],
   "source": [
    "#counts = 0\n",
    "#for i in food_list:\n",
    " #   if 'b' in i:\n",
    "  #      counts += 1\n",
    "\n",
    "#print(counts)"
   ]
  },
  {
   "cell_type": "code",
   "execution_count": 51,
   "metadata": {},
   "outputs": [
    {
     "name": "stdout",
     "output_type": "stream",
     "text": [
      "['Grocery list:', 'bread', 'broccoli']\n"
     ]
    }
   ],
   "source": [
    "counts = []\n",
    "for i in food_list:\n",
    "    if 'b' in i:\n",
    "        counts.append(i)\n",
    "counts.insert(0,'Grocery list:')\n",
    "print(counts)\n",
    "\n",
    "#https://www.programiz.com/python-programming/methods/list/insert"
   ]
  },
  {
   "cell_type": "code",
   "execution_count": 1,
   "metadata": {},
   "outputs": [],
   "source": [
    "#The insert() method takes two parameters:\n",
    "\n",
    "#index - the index where the element needs to be inserted\n",
    "#element - this is the element to be inserted in the list"
   ]
  },
  {
   "cell_type": "markdown",
   "metadata": {},
   "source": [
    "In the cell below, write a function that computes the area of a circle using its radius. Compute the area of the circle and insert the radius and the area between the two strings. Make sure to include spaces between the variable and the strings. \n",
    "\n",
    "Note: You can use the techniques we have learned so far or use f-strings. F-strings allow us to embed code inside strings. You can read more about f-strings [here](https://www.python.org/dev/peps/pep-0498/)."
   ]
  },
  {
   "cell_type": "code",
   "execution_count": 17,
   "metadata": {},
   "outputs": [
    {
     "name": "stdout",
     "output_type": "stream",
     "text": [
      "The area of the circle with radius: 4.5 is: 63.61725123519331\n"
     ]
    }
   ],
   "source": [
    "import math\n",
    "\n",
    "string1 = \"The area of the circle with radius:\"\n",
    "string2  = \"is:\"\n",
    "radius = 4.5\n",
    "\n",
    "def area(x, pi = math.pi):\n",
    "    # This function takes a radius and returns the area of a circle. \n",
    "    #We also pass a default value for pi.\n",
    "    # Input: Float (and default value for pi)print(string1+' '+str(x)+' '+string2+' '+str(pi * x**2))print(string1+' '+str(x)+' '+string2+' '+str(pi * x**2))\n",
    "    # Output: Float\n",
    "    \n",
    "    # Sample input: 5.0print(string1+' '+str(x)+' '+string2+' '+str(pi * x**2))print(string1+' '+str(x)+' '+string2+' '+str(pi * x**2))print(string1+' '+str(x)+' '+string2+' '+str(pi * x**2))print(string1+' '+str(x)+' '+string2+' '+str(pi * x**2))print(string1+' '+str(x)+' '+string2+' '+str(pi * x**2))print(string1+' '+str(x)+' '+string2+' '+str(pi * x**2))print(string1+' '+str(x)+' '+string2+' '+str(pi * x**2))print(string1+' '+str(x)+' '+string2+' '+str(pi * x**2))print(string1+' '+str(x)+' '+string2+' '+str(pi * x**2))\n",
    "    # Sample Output: 78.53981633\n",
    "    \n",
    "    # Your code here:\n",
    "    print(string1+' '+str(x)+' '+string2+' '+str(pi * x**2))\n",
    "    #tiene que decir str(x) porque no puedes concatenar \n",
    "    #str y numeros, emntonces hay que pasarlo a str.\n",
    "    \n",
    "# Your output string here:\n",
    "area(radius)"
   ]
  },
  {
   "cell_type": "markdown",
   "metadata": {},
   "source": [
    "# Challenge 2 - Splitting Strings\n",
    "\n",
    "We have first looked at combining strings into one long string. There are times where we need to do the opposite and split the string into smaller components for further analysis. \n",
    "\n",
    "In the cell below, split the string into a list of strings using the space delimiter. Count the frequency of each word in the string in a dictionary. Strip the periods, line breaks and commas from the text. Make sure to remove empty strings from your dictionary."
   ]
  },
  {
   "cell_type": "code",
   "execution_count": null,
   "metadata": {},
   "outputs": [],
   "source": [
    "#https://uniwebsidad.com/libros/python/capitulo-6/metodos-de-formato"
   ]
  },
  {
   "cell_type": "code",
   "execution_count": 4,
   "metadata": {},
   "outputs": [],
   "source": [
    "poem = \"\"\"Some say the world will end in fire,\n",
    "Some say in ice.\n",
    "From what I’ve tasted of desire\n",
    "I hold with those who favor fire.\n",
    "But if it had to perish twice,\n",
    "I think I know enough of hate\n",
    "To say that for destruction ice\n",
    "Is also great\n",
    "And would suffice.\"\"\"\n"
   ]
  },
  {
   "cell_type": "code",
   "execution_count": 24,
   "metadata": {},
   "outputs": [
    {
     "data": {
      "text/plain": [
       "['some',\n",
       " 'say',\n",
       " 'the',\n",
       " 'world',\n",
       " 'will',\n",
       " 'end',\n",
       " 'in',\n",
       " 'fire',\n",
       " 'some',\n",
       " 'say',\n",
       " 'in',\n",
       " 'ice',\n",
       " 'from',\n",
       " 'what',\n",
       " 'ive',\n",
       " 'tasted',\n",
       " 'of',\n",
       " 'desire',\n",
       " 'i',\n",
       " 'hold',\n",
       " 'with',\n",
       " 'those',\n",
       " 'who',\n",
       " 'favor',\n",
       " 'fire',\n",
       " 'but',\n",
       " 'if',\n",
       " 'it',\n",
       " 'had',\n",
       " 'to',\n",
       " 'perish',\n",
       " 'twice',\n",
       " 'i',\n",
       " 'think',\n",
       " 'i',\n",
       " 'know',\n",
       " 'enough',\n",
       " 'of',\n",
       " 'hate',\n",
       " 'to',\n",
       " 'say',\n",
       " 'that',\n",
       " 'for',\n",
       " 'destruction',\n",
       " 'ice',\n",
       " 'is',\n",
       " 'also',\n",
       " 'great',\n",
       " 'and',\n",
       " 'would',\n",
       " 'suffice']"
      ]
     },
     "execution_count": 24,
     "metadata": {},
     "output_type": "execute_result"
    }
   ],
   "source": [
    "poem_limpio= re.sub(r'[^\\w\\s]', '', poem).lower().split()\n",
    "#poem_limpio= re.sub(r'[\\w\\s]', '', poem).lower().split() >> trae[',.’.,.']\n",
    "poem_limpio"
   ]
  },
  {
   "cell_type": "code",
   "execution_count": 25,
   "metadata": {},
   "outputs": [
    {
     "name": "stdout",
     "output_type": "stream",
     "text": [
      "[2, 3, 1, 1, 1, 1, 2, 2, 2, 3, 2, 2, 1, 1, 1, 1, 2, 1, 3, 1, 1, 1, 1, 1, 2, 1, 1, 1, 1, 2, 1, 1, 3, 1, 3, 1, 1, 2, 1, 2, 3, 1, 1, 1, 2, 1, 1, 1, 1, 1, 1]\n"
     ]
    }
   ],
   "source": [
    "wordfreq = []\n",
    "for w in poem_limpio: \n",
    "    wordfreq.append(poem_limpio.count(w))\n",
    "    \n",
    "print(wordfreq)"
   ]
  },
  {
   "cell_type": "code",
   "execution_count": 27,
   "metadata": {
    "scrolled": true
   },
   "outputs": [
    {
     "data": {
      "text/plain": [
       "{'some': 2,\n",
       " 'say': 3,\n",
       " 'the': 1,\n",
       " 'world': 1,\n",
       " 'will': 1,\n",
       " 'end': 1,\n",
       " 'in': 2,\n",
       " 'fire': 2,\n",
       " 'ice': 2,\n",
       " 'from': 1,\n",
       " 'what': 1,\n",
       " 'ive': 1,\n",
       " 'tasted': 1,\n",
       " 'of': 2,\n",
       " 'desire': 1,\n",
       " 'i': 3,\n",
       " 'hold': 1,\n",
       " 'with': 1,\n",
       " 'those': 1,\n",
       " 'who': 1,\n",
       " 'favor': 1,\n",
       " 'but': 1,\n",
       " 'if': 1,\n",
       " 'it': 1,\n",
       " 'had': 1,\n",
       " 'to': 2,\n",
       " 'perish': 1,\n",
       " 'twice': 1,\n",
       " 'think': 1,\n",
       " 'know': 1,\n",
       " 'enough': 1,\n",
       " 'hate': 1,\n",
       " 'that': 1,\n",
       " 'for': 1,\n",
       " 'destruction': 1,\n",
       " 'is': 1,\n",
       " 'also': 1,\n",
       " 'great': 1,\n",
       " 'and': 1,\n",
       " 'would': 1,\n",
       " 'suffice': 1}"
      ]
     },
     "execution_count": 27,
     "metadata": {},
     "output_type": "execute_result"
    }
   ],
   "source": [
    "dict(zip(poem_limpio, wordfreq))\n",
    "#https://interactivechaos.com/es/forum/topic/creacion-de-diccionario-partir-de-dos-listas-de-datos"
   ]
  },
  {
   "cell_type": "markdown",
   "metadata": {},
   "source": [
    "In the cell below, find all the words that appear in the text and do not appear in the blacklist. You must parse the string but can choose any data structure you wish for the words that do not appear in the blacklist. Remove all non letter characters and convert all words to lower case."
   ]
  },
  {
   "cell_type": "code",
   "execution_count": null,
   "metadata": {},
   "outputs": [],
   "source": [
    "blacklist = ['and', 'as', 'an', 'a', 'the', 'in', 'it']\n",
    "\n",
    "poem = \"\"\"I was angry with my friend; \n",
    "I told my wrath, my wrath did end.\n",
    "I was angry with my foe: \n",
    "I told it not, my wrath did grow. \n",
    "\n",
    "And I waterd it in fears,\n",
    "Night & morning with my tears: \n",
    "And I sunned it with smiles,\n",
    "And with soft deceitful wiles. \n",
    "\n",
    "And it grew both day and night. \n",
    "Till it bore an apple bright. \n",
    "And my foe beheld it shine,\n",
    "And he knew that it was mine. \n",
    "\n",
    "And into my garden stole, \n",
    "When the night had veild the pole; \n",
    "In the morning glad I see; \n",
    "My foe outstretched beneath the tree.\"\"\"\n",
    "\n",
    "\n"
   ]
  },
  {
   "cell_type": "code",
   "execution_count": null,
   "metadata": {},
   "outputs": [],
   "source": [
    "poem_clean= poem.lower()\n",
    "poem_clean= re.sub(r\"[-()\\[\\]\\\"#/@;:<>{}`+=~|.!?,\\n]\", \"\", poem) #porqué es el segundo \"\",?\n",
    "#poem_clean\n",
    "poemtext= poem_clean.split(\" \")"
   ]
  },
  {
   "cell_type": "code",
   "execution_count": null,
   "metadata": {
    "scrolled": true
   },
   "outputs": [],
   "source": [
    "poem_without_stopwords=[]\n",
    "\n",
    "for word in poemtext:\n",
    "    if word not in blacklist:\n",
    "        poem_without_stopwords.append(word)\n",
    "print (poem_without_stopwords)"
   ]
  },
  {
   "cell_type": "markdown",
   "metadata": {},
   "source": [
    "# Challenge 3 - Regular Expressions\n",
    "\n",
    "Sometimes, we would like to perform more complex manipulations of our string. This is where regular expressions come in handy. In the cell below, return all characters that are upper case from the string specified below."
   ]
  },
  {
   "cell_type": "code",
   "execution_count": null,
   "metadata": {},
   "outputs": [],
   "source": [
    "poem = \"\"\"The apparition of these faces in the crowd;\n",
    "Petals on a wet, black bough.\"\"\"\n",
    "\n",
    "mayus = re.findall(r'[A-Z]',poem)\n",
    "mayus\n"
   ]
  },
  {
   "cell_type": "markdown",
   "metadata": {},
   "source": [
    "In the cell below, filter the list provided and return all elements of the list containing a number. To filter the list, use the `re.search` function. Check if the function does not return `None`. You can read more about the `re.search` function [here](https://docs.python.org/3/library/re.html)."
   ]
  },
  {
   "cell_type": "code",
   "execution_count": null,
   "metadata": {},
   "outputs": [],
   "source": [
    "data = ['123abc', 'abc123', 'JohnSmith1', 'ABBY4', 'JANE']\n",
    "\n",
    "#re.search(['\\d'],data) --> No funciona porque no es una cadena. \n",
    "\n",
    "elementos_cnumero=[]\n",
    "\n",
    "for elemento in data: \n",
    "    if '1'in elemento:\n",
    "        elementos_cnumero.append(elemento)\n",
    "    elif '2'in elemento:\n",
    "            elementos_cnumero.append(elemento)\n",
    "    elif '3'in elemento:\n",
    "            elementos_cnumero.append(elemento)\n",
    "    elif '4'in elemento:\n",
    "            elementos_cnumero.append(elemento)\n",
    "    elif '5'in elemento:\n",
    "            elementos_cnumero.append(elemento)\n",
    "    elif '6'in elemento:\n",
    "            elementos_cnumero.append(elemento)\n",
    "    elif '7'in elemento:\n",
    "            elementos_cnumero.append(elemento)\n",
    "    elif '8'in elemento:\n",
    "            elementos_cnumero.append(elemento)\n",
    "    elif '9'in elemento:\n",
    "            elementos_cnumero.append(elemento)\n",
    "    elif '0'in elemento:\n",
    "            elementos_cnumero.append(elemento)\n",
    "\n",
    "print(elementos_cnumero)\n"
   ]
  },
  {
   "cell_type": "markdown",
   "metadata": {},
   "source": [
    "# Bonus Challenge - Regular Expressions II\n",
    "\n",
    "In the cell below, filter the list provided to keep only strings containing at least one digit and at least one lower case letter. As in the previous question, use the `re.search` function and check that the result is not `None`.\n",
    "\n",
    "To read more about regular expressions, check out [this link](https://developers.google.com/edu/python/regular-expressions)."
   ]
  },
  {
   "cell_type": "code",
   "execution_count": null,
   "metadata": {},
   "outputs": [],
   "source": [
    "data = ['123abc', 'abc123', 'JohnSmith1', 'ABBY4', 'JANE']\n",
    "# Your code here:\n"
   ]
  },
  {
   "cell_type": "code",
   "execution_count": null,
   "metadata": {},
   "outputs": [],
   "source": []
  },
  {
   "cell_type": "code",
   "execution_count": null,
   "metadata": {},
   "outputs": [],
   "source": [
    "print(string1+' '+str(x)+' '+string2+' '+str(pi * x**2))print(string1+' '+str(x)+' '+string2+' '+str(pi * x**2))print(string1+' '+str(x)+' '+string2+' '+str(pi * x**2))print(string1+' '+str(x)+' '+string2+' '+str(pi * x**2))print(string1+' '+str(x)+' '+string2+' '+str(pi * x**2))print(string1+' '+str(x)+' '+string2+' '+str(pi * x**2))print(string1+' '+str(x)+' '+string2+' '+str(pi * x**2))print(string1+' '+str(x)+' '+string2+' '+str(pi * x**2))print(string1+' '+str(x)+' '+string2+' '+str(pi * x**2))print(string1+' '+str(x)+' '+string2+' '+str(pi * x**2))print(string1+' '+str(x)+' '+string2+' '+str(pi * x**2))print(string1+' '+str(x)+' '+string2+' '+str(pi * x**2))print(string1+' '+str(x)+' '+string2+' '+str(pi * x**2))print(string1+' '+str(x)+' '+string2+' '+str(pi * x**2))print(string1+' '+str(x)+' '+string2+' '+str(pi * x**2))print(string1+' '+str(x)+' '+string2+' '+str(pi * x**2))print(string1+' '+str(x)+' '+string2+' '+str(pi * x**2))print(string1+' '+str(x)+' '+string2+' '+str(pi * x**2))print(string1+' '+str(x)+' '+string2+' '+str(pi * x**2))print(string1+' '+str(x)+' '+string2+' '+str(pi * x**2))print(string1+' '+str(x)+' '+string2+' '+str(pi * x**2))print(string1+' '+str(x)+' '+string2+' '+str(pi * x**2))print(string1+' '+str(x)+' '+string2+' '+str(pi * x**2))print(string1+' '+str(x)+' '+string2+' '+str(pi * x**2))print(string1+' '+str(x)+' '+string2+' '+str(pi * x**2))print(string1+' '+str(x)+' '+string2+' '+str(pi * x**2))print(string1+' '+str(x)+' '+string2+' '+str(pi * x**2))print(string1+' '+str(x)+' '+string2+' '+str(pi * x**2))print(string1+' '+str(x)+' '+string2+' '+str(pi * x**2))print(string1+' '+str(x)+' '+string2+' '+str(pi * x**2))print(string1+' '+str(x)+' '+string2+' '+str(pi * x**2))print(string1+' '+str(x)+' '+string2+' '+str(pi * x**2))print(string1+' '+str(x)+' '+string2+' '+str(pi * x**2))print(string1+' '+str(x)+' '+string2+' '+str(pi * x**2))print(string1+' '+str(x)+' '+string2+' '+str(pi * x**2))print(string1+' '+str(x)+' '+string2+' '+str(pi * x**2))print(string1+' '+str(x)+' '+string2+' '+str(pi * x**2))print(string1+' '+str(x)+' '+string2+' '+str(pi * x**2))print(string1+' '+str(x)+' '+string2+' '+str(pi * x**2))print(string1+' '+str(x)+' '+string2+' '+str(pi * x**2))print(string1+' '+str(x)+' '+string2+' '+str(pi * x**2))print(string1+' '+str(x)+' '+string2+' '+str(pi * x**2))print(string1+' '+str(x)+' '+string2+' '+str(pi * x**2))print(string1+' '+str(x)+' '+string2+' '+str(pi * x**2))print(string1+' '+str(x)+' '+string2+' '+str(pi * x**2))print(string1+' '+str(x)+' '+string2+' '+str(pi * x**2))print(string1+' '+str(x)+' '+string2+' '+str(pi * x**2))print(string1+' '+str(x)+' '+string2+' '+str(pi * x**2))print(string1+' '+str(x)+' '+string2+' '+str(pi * x**2))print(string1+' '+str(x)+' '+string2+' '+str(pi * x**2))print(string1+' '+str(x)+' '+string2+' '+str(pi * x**2))print(string1+' '+str(x)+' '+string2+' '+str(pi * x**2))print(string1+' '+str(x)+' '+string2+' '+str(pi * x**2))print(string1+' '+str(x)+' '+string2+' '+str(pi * x**2))print(string1+' '+str(x)+' '+string2+' '+str(pi * x**2))print(string1+' '+str(x)+' '+string2+' '+str(pi * x**2))"
   ]
  }
 ],
 "metadata": {
  "kernelspec": {
   "display_name": "Python 3",
   "language": "python",
   "name": "python3"
  },
  "language_info": {
   "codemirror_mode": {
    "name": "ipython",
    "version": 3
   },
   "file_extension": ".py",
   "mimetype": "text/x-python",
   "name": "python",
   "nbconvert_exporter": "python",
   "pygments_lexer": "ipython3",
   "version": "3.8.5"
  }
 },
 "nbformat": 4,
 "nbformat_minor": 2
}
